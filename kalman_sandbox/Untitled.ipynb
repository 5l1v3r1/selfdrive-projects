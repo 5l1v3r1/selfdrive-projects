{
 "cells": [
  {
   "cell_type": "code",
   "execution_count": 29,
   "metadata": {},
   "outputs": [],
   "source": [
    "from sympy import sin, cos, Matrix, sqrt, atan2, symbols"
   ]
  },
  {
   "cell_type": "code",
   "execution_count": 44,
   "metadata": {},
   "outputs": [
    {
     "name": "stdout",
     "output_type": "stream",
     "text": [
      "Matrix([[1, 0, -v*sin(th)], [0, 1, v*cos(th)], [0, 0, 1]])\n",
      "Matrix([[cos(th), 0], [sin(th), 0], [0, 1]])\n"
     ]
    }
   ],
   "source": [
    "from sympy.abc import x, y, v\n",
    "\n",
    "om = symbols('om')\n",
    "th = symbols('th')\n",
    "\n",
    "X = Matrix([x + v * cos(th), y + v * sin(th), th + om])\n",
    "Y = Matrix([x, y, th])\n",
    "\n",
    "Z = Matrix([v, om])\n",
    "\n",
    "\n",
    "print(X.jacobian(Y))\n",
    "print(X.jacobian(Z))"
   ]
  },
  {
   "cell_type": "code",
   "execution_count": 43,
   "metadata": {},
   "outputs": [
    {
     "name": "stdout",
     "output_type": "stream",
     "text": [
      "Matrix([[(x - xl)/sqrt((-x + xl)**2 + (-y + yl)**2), (y - yl)/sqrt((-x + xl)**2 + (-y + yl)**2), 0], [-(y - yl)/((-x + xl)**2 + (-y + yl)**2), -(-x + xl)/((-x + xl)**2 + (-y + yl)**2), -1]])\n"
     ]
    },
    {
     "data": {
      "text/latex": [
       "$\\displaystyle \\left[\\begin{matrix}\\frac{x - xl}{\\sqrt{\\left(- x + xl\\right)^{2} + \\left(- y + yl\\right)^{2}}} & \\frac{y - yl}{\\sqrt{\\left(- x + xl\\right)^{2} + \\left(- y + yl\\right)^{2}}} & 0\\\\- \\frac{y - yl}{\\left(- x + xl\\right)^{2} + \\left(- y + yl\\right)^{2}} & - \\frac{- x + xl}{\\left(- x + xl\\right)^{2} + \\left(- y + yl\\right)^{2}} & -1\\end{matrix}\\right]$"
      ],
      "text/plain": [
       "Matrix([\n",
       "[(x - xl)/sqrt((-x + xl)**2 + (-y + yl)**2), (y - yl)/sqrt((-x + xl)**2 + (-y + yl)**2),  0],\n",
       "[   -(y - yl)/((-x + xl)**2 + (-y + yl)**2),   -(-x + xl)/((-x + xl)**2 + (-y + yl)**2), -1]])"
      ]
     },
     "execution_count": 43,
     "metadata": {},
     "output_type": "execute_result"
    }
   ],
   "source": [
    "from sympy.abc import x, y\n",
    "\n",
    "l0, l1 = symbols('xl yl')\n",
    "th = symbols('th')\n",
    "\n",
    "X = Matrix([sqrt((l0 - x)**2 + (l1 - y)**2),\n",
    "            atan2(l1 - y, l0 - x )- th])\n",
    "Y = Matrix([x, y, th])\n",
    "\n",
    "print(X.jacobian(Y))\n",
    "X.jacobian(Y)\n"
   ]
  },
  {
   "cell_type": "code",
   "execution_count": null,
   "metadata": {},
   "outputs": [],
   "source": []
  }
 ],
 "metadata": {
  "kernelspec": {
   "display_name": "Python 3",
   "language": "python",
   "name": "python3"
  },
  "language_info": {
   "codemirror_mode": {
    "name": "ipython",
    "version": 3
   },
   "file_extension": ".py",
   "mimetype": "text/x-python",
   "name": "python",
   "nbconvert_exporter": "python",
   "pygments_lexer": "ipython3",
   "version": "3.6.9"
  }
 },
 "nbformat": 4,
 "nbformat_minor": 2
}
